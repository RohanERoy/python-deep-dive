{
 "cells": [
  {
   "cell_type": "markdown",
   "id": "ba25603b-d5c0-457a-a88e-536209f4a08a",
   "metadata": {},
   "source": [
    "# Section Intro"
   ]
  },
  {
   "cell_type": "markdown",
   "id": "e4d3c8ff-896a-4fd2-9b2c-105a7ee03653",
   "metadata": {},
   "source": [
    "In this section we will look at\n",
    "* Memory References\n",
    "* What variables really are (in the context of memory references)\n",
    "* Memory Management\n",
    "* Reference Counting, Garbage Collection (note that these 2 are not the same thing)\n",
    "* Dynamic vs Static Typing\n",
    "* Mutability and Immutability\n",
    "* Shared References\n",
    "* Variable equality\n",
    "* In Python everything is an object"
   ]
  },
  {
   "cell_type": "markdown",
   "id": "daf6d4f1-17bd-4d37-9f77-37979ea8f8fb",
   "metadata": {},
   "source": [
    "## Variables and Memory References"
   ]
  },
  {
   "cell_type": "code",
   "execution_count": null,
   "id": "d3a96435-93b0-4d4a-9e4b-278bd0f8301a",
   "metadata": {},
   "outputs": [],
   "source": []
  }
 ],
 "metadata": {
  "kernelspec": {
   "display_name": "Python 3 (ipykernel)",
   "language": "python",
   "name": "python3"
  },
  "language_info": {
   "codemirror_mode": {
    "name": "ipython",
    "version": 3
   },
   "file_extension": ".py",
   "mimetype": "text/x-python",
   "name": "python",
   "nbconvert_exporter": "python",
   "pygments_lexer": "ipython3",
   "version": "3.10.12"
  }
 },
 "nbformat": 4,
 "nbformat_minor": 5
}
