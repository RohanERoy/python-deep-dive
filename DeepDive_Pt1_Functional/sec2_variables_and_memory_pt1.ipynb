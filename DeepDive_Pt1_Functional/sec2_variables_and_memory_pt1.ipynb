{
 "cells": [
  {
   "cell_type": "markdown",
   "id": "ba25603b-d5c0-457a-a88e-536209f4a08a",
   "metadata": {},
   "source": [
    "# Section Intro"
   ]
  },
  {
   "cell_type": "markdown",
   "id": "e4d3c8ff-896a-4fd2-9b2c-105a7ee03653",
   "metadata": {},
   "source": [
    "In this section we will look at\n",
    "* Memory References\n",
    "* What variables really are (in the context of memory references)\n",
    "* Memory Management\n",
    "* Reference Counting, Garbage Collection (note that these 2 are not the same thing)\n",
    "* Dynamic vs Static Typing\n",
    "* Mutability and Immutability\n",
    "* Shared References\n",
    "* Variable equality\n",
    "* In Python everything is an object"
   ]
  },
  {
   "cell_type": "markdown",
   "id": "daf6d4f1-17bd-4d37-9f77-37979ea8f8fb",
   "metadata": {},
   "source": [
    "# 1. Variables and Memory References"
   ]
  },
  {
   "cell_type": "markdown",
   "id": "ef14c9de-8676-48c9-9e90-d7d777af2cb0",
   "metadata": {},
   "source": [
    "* Memory can be thought of as a series of slots/boxes and we can store and retrieve data from those boxes.\n",
    "* We need unique address for each of those slots/boxes (typically just numbers)\n",
    "* When we store data im memory addresses we may actually use more than 1 slot at a time\n",
    "* Storing and Retrieving object from the heap is taken care of for us by \"Python Memory Manager\""
   ]
  },
  {
   "cell_type": "markdown",
   "id": "7167cb0c-7dec-4f01-87af-574101c1893f",
   "metadata": {},
   "source": [
    "![image](img/python_memory.png)"
   ]
  },
  {
   "cell_type": "markdown",
   "id": "4ec7a6ec-ee2f-44ca-abf8-50d0cdd17b17",
   "metadata": {},
   "source": [
    "* When you execute \"my_var_1 = 10\" Python creates an object in memory at some address, say 1000, and it stores the value 10 inside that object\n",
    "* my_var_1 is simply a name/alias for the memory address where that object is stored or the starting address of the object if it overflows to multiple slots\n",
    "* Hence **my_var_1 references the object at 0x1000**\n",
    "* Note that my_var_1 != 10; my_var_1 = 0x1000 (in this case); But 0x1000 represents the memory addr of the data we're actually interested in\n",
    "* Similarly, **my_var_2 references the object at 0x1002**"
   ]
  },
  {
   "cell_type": "markdown",
   "id": "5db98546-b853-40bc-97fc-d03c8f307513",
   "metadata": {},
   "source": [
    "## Variables in Python are always references to objects in memory"
   ]
  },
  {
   "cell_type": "markdown",
   "id": "4d8f8411-4350-48d4-b67b-d2e72438cba5",
   "metadata": {},
   "source": [
    "## id()\n",
    "* In Python, we can find out the memory address referenced by a variable by using **id()** function\n",
    "* id() function returns a base 10 number which we can covert to hexadecimal number using **hex()** function"
   ]
  },
  {
   "cell_type": "code",
   "execution_count": 1,
   "id": "f7a4645c-c7ca-4a60-889e-672a37556c0e",
   "metadata": {},
   "outputs": [],
   "source": [
    "my_var = 10"
   ]
  },
  {
   "cell_type": "code",
   "execution_count": 2,
   "id": "0e642d86-b6ce-4110-8c56-361d21b05bb9",
   "metadata": {},
   "outputs": [
    {
     "name": "stdout",
     "output_type": "stream",
     "text": [
      "10\n"
     ]
    }
   ],
   "source": [
    "print(my_var)"
   ]
  },
  {
   "cell_type": "markdown",
   "id": "295d79d7-3b5a-4ab8-bd47-12ce017a77b4",
   "metadata": {},
   "source": [
    "What actually happened is that Python looked at my_var. It then looked at what is the memory address that my_var is referencing. It found that memory address. It went to the memory, retrieved the data from memory and brought it back to be displayed."
   ]
  },
  {
   "cell_type": "code",
   "execution_count": 3,
   "id": "659f30e1-6248-481c-949f-5fef526ada34",
   "metadata": {},
   "outputs": [
    {
     "name": "stdout",
     "output_type": "stream",
     "text": [
      "138428361425424\n"
     ]
    }
   ],
   "source": [
    "print(id(my_var))"
   ]
  },
  {
   "cell_type": "code",
   "execution_count": 4,
   "id": "043874ee-2c22-4658-bfaf-3d5efa050c24",
   "metadata": {},
   "outputs": [
    {
     "name": "stdout",
     "output_type": "stream",
     "text": [
      "0x7de65d4f4210\n"
     ]
    }
   ],
   "source": [
    "print(hex(id(my_var)))"
   ]
  },
  {
   "cell_type": "code",
   "execution_count": 5,
   "id": "a8484443-8624-4d06-aac1-0ae5e2cab859",
   "metadata": {},
   "outputs": [],
   "source": [
    "greeting = 'hello'"
   ]
  },
  {
   "cell_type": "code",
   "execution_count": 6,
   "id": "4b18cdde-32a6-457c-8159-da4a186fc12b",
   "metadata": {},
   "outputs": [
    {
     "name": "stdout",
     "output_type": "stream",
     "text": [
      "hello\n"
     ]
    }
   ],
   "source": [
    "print(greeting)"
   ]
  },
  {
   "cell_type": "code",
   "execution_count": 7,
   "id": "af433d22-3d33-4ddb-a87a-3b2ce323d6a8",
   "metadata": {},
   "outputs": [
    {
     "name": "stdout",
     "output_type": "stream",
     "text": [
      "138428276935344\n"
     ]
    }
   ],
   "source": [
    "print(id(greeting))"
   ]
  },
  {
   "cell_type": "code",
   "execution_count": 8,
   "id": "6264e65c-b4fa-4fea-8420-aee60c79ce73",
   "metadata": {},
   "outputs": [
    {
     "name": "stdout",
     "output_type": "stream",
     "text": [
      "0x7de658460ab0\n"
     ]
    }
   ],
   "source": [
    "print(hex(id(greeting)))"
   ]
  },
  {
   "cell_type": "markdown",
   "id": "7a61fffa-589e-4c41-9387-ecb042d3e671",
   "metadata": {},
   "source": [
    "# 2. Reference Counting"
   ]
  },
  {
   "cell_type": "markdown",
   "id": "ebcc8d64-93b4-4f3e-a6eb-416f5e913d7e",
   "metadata": {},
   "source": [
    "We can start keeping track of these objects that are created in memory by keeping track of their memory address and how many variables are pointing to that same object."
   ]
  },
  {
   "cell_type": "markdown",
   "id": "a54e7de5-984a-4d53-b137-6f8558e0bf33",
   "metadata": {},
   "source": [
    "![Reference_counting_1](img/Reference_counting_1.png)"
   ]
  },
  {
   "cell_type": "markdown",
   "id": "b7088608-5be5-4d35-b917-1547d3efeb22",
   "metadata": {},
   "source": [
    "Remember, when we say \"oter_var = my_var\" we are actually taking the reference of my_var and assigning that reference (0x1000) to other_var. The reference counter now goes to 2."
   ]
  },
  {
   "cell_type": "markdown",
   "id": "8da2976d-326a-4c06-8db3-06036a7f87a3",
   "metadata": {},
   "source": [
    "Now suppose \"my_var\" goes away: either it falls out of scope or we assign it to a different object in memory, then the reference goes away and reference count goes down to 1."
   ]
  },
  {
   "cell_type": "markdown",
   "id": "a927e236-1208-4be0-8a48-60a39bbf1aa5",
   "metadata": {},
   "source": [
    "![Reference_counting_2](img/Reference_counting_2.png) "
   ]
  },
  {
   "cell_type": "markdown",
   "id": "a3993c6e-db30-4024-b2ce-4cf32a2c94ec",
   "metadata": {},
   "source": [
    "Let say \"other_var\" also goes away. Now the reference count drops down to 0."
   ]
  },
  {
   "cell_type": "markdown",
   "id": "413d7d4e-a4e1-40ff-ac16-707b8aa57dae",
   "metadata": {},
   "source": [
    "![Reference_counting_3](img/Reference_counting_3.png)"
   ]
  },
  {
   "cell_type": "markdown",
   "id": "4c902750-7103-48ee-b977-c82fcce6f0f7",
   "metadata": {},
   "source": [
    "* At this point Python Memory manager recognizes that and says there's no references to this object so I don't need it anymore and it throws away the object.\n",
    "* The space that the object previously used can now be reused by Python when it's running our program."
   ]
  },
  {
   "cell_type": "markdown",
   "id": "ee40a776-aad3-4e4e-bd0d-1bf43c7242f4",
   "metadata": {},
   "source": [
    "**This is called reference counting** and this is something that Python Memory Manager does for us automatically."
   ]
  },
  {
   "cell_type": "markdown",
   "id": "cd130413-754b-400e-84bf-345a0ecc7949",
   "metadata": {},
   "source": [
    "## How to find reference count of a variable"
   ]
  },
  {
   "cell_type": "markdown",
   "id": "d573a8f8-74a1-47b3-8447-9a1905be7bfa",
   "metadata": {},
   "source": [
    "**Option 1** - we can use **sys.getrefcount(my_var)** function provided by **sys module** for this purpose"
   ]
  },
  {
   "cell_type": "markdown",
   "id": "fefa65e4-148c-4886-8625-3723ca9566c2",
   "metadata": {},
   "source": [
    "Note that passing \"my_var\" to getrefcount() creates an extra reference!\n",
    "This happens because the memory address in my_var gets assigned to the parameter used in the getrefcount function (***variables are passed by reference in Python***). The scope of this parameter is till the end of this function"
   ]
  },
  {
   "cell_type": "markdown",
   "id": "a5163b86-5088-41a9-831b-79e2ea134ddf",
   "metadata": {},
   "source": [
    "**Option 2** - ***<u>ctypes.c_long.from_address(address).value</u>***"
   ]
  },
  {
   "cell_type": "markdown",
   "id": "43e1b7ef-0a32-489b-83c4-d092f7fdf6e6",
   "metadata": {},
   "source": [
    "This is at lower level. The difference between the 2 functions is that in ths fuction we directly pass the memory address(an integer), not a reference. Therefore it doesn't affect reference count."
   ]
  },
  {
   "cell_type": "code",
   "execution_count": 9,
   "id": "6e1a5816-3d5d-4468-bbca-b8c70b29e0d5",
   "metadata": {},
   "outputs": [],
   "source": [
    "import sys"
   ]
  },
  {
   "cell_type": "code",
   "execution_count": 10,
   "id": "5b4de05d-dfad-414c-a85a-7c7f54ec7c9b",
   "metadata": {},
   "outputs": [],
   "source": [
    "a = [1, 2, 3]"
   ]
  },
  {
   "cell_type": "markdown",
   "id": "2b8403c7-9aac-48cc-8b96-af5f1bef1f50",
   "metadata": {},
   "source": [
    "We'll see in upcoming lessons why am I not using an integer here - because you might be surprised at the answer we get."
   ]
  },
  {
   "cell_type": "code",
   "execution_count": 11,
   "id": "2def6fb1-ac55-478c-9c1c-fdf65efb764c",
   "metadata": {},
   "outputs": [
    {
     "data": {
      "text/plain": [
       "131373005329600"
      ]
     },
     "execution_count": 11,
     "metadata": {},
     "output_type": "execute_result"
    }
   ],
   "source": [
    "id(a)"
   ]
  },
  {
   "cell_type": "code",
   "execution_count": 12,
   "id": "8e856164-428e-46ec-b013-1bfe1518b1f4",
   "metadata": {},
   "outputs": [
    {
     "data": {
      "text/plain": [
       "2"
      ]
     },
     "execution_count": 12,
     "metadata": {},
     "output_type": "execute_result"
    }
   ],
   "source": [
    "sys.getrefcount(a)"
   ]
  },
  {
   "cell_type": "code",
   "execution_count": 13,
   "id": "fd00a56b-5b2d-4aa7-a88c-68b60b001f06",
   "metadata": {},
   "outputs": [],
   "source": [
    "import ctypes"
   ]
  },
  {
   "cell_type": "code",
   "execution_count": 14,
   "id": "f9154bd0-993a-4bf1-8e56-8b2f5a4afc69",
   "metadata": {},
   "outputs": [],
   "source": [
    "def ref_count(address):\n",
    "    return ctypes.c_long.from_address(address).value"
   ]
  },
  {
   "cell_type": "code",
   "execution_count": 16,
   "id": "e579ad8e-3f5f-4ec4-a16c-1c4a5af6204e",
   "metadata": {},
   "outputs": [
    {
     "data": {
      "text/plain": [
       "1"
      ]
     },
     "execution_count": 16,
     "metadata": {},
     "output_type": "execute_result"
    }
   ],
   "source": [
    "ref_count(id(a))"
   ]
  },
  {
   "cell_type": "markdown",
   "id": "864eafb1-aa9b-4415-90cc-43f70efc8e83",
   "metadata": {},
   "source": [
    "* Here id of a is getting evaluated first. Indeed whe id function is running, then the reference count to that memory address is 2.\n",
    "* But id then finishes running and returns the memory address. So by the time we call ref_count, id has finished running and it has released it's pointer to that memory address.\n",
    "* This is exactly the same as below"
   ]
  },
  {
   "cell_type": "code",
   "execution_count": 17,
   "id": "ceb0fd2b-6df7-4df3-ac21-07b010ecca35",
   "metadata": {},
   "outputs": [
    {
     "data": {
      "text/plain": [
       "1"
      ]
     },
     "execution_count": 17,
     "metadata": {},
     "output_type": "execute_result"
    }
   ],
   "source": [
    "ref_count(131373005329600)"
   ]
  },
  {
   "cell_type": "code",
   "execution_count": 18,
   "id": "fa6453da-f364-4902-be11-1fedbbb5f09f",
   "metadata": {},
   "outputs": [],
   "source": [
    "b = a"
   ]
  },
  {
   "cell_type": "code",
   "execution_count": 20,
   "id": "dffc6139-1521-400c-8eab-de0f109d575c",
   "metadata": {},
   "outputs": [
    {
     "data": {
      "text/plain": [
       "131373005329600"
      ]
     },
     "execution_count": 20,
     "metadata": {},
     "output_type": "execute_result"
    }
   ],
   "source": [
    "id(b)"
   ]
  },
  {
   "cell_type": "markdown",
   "id": "6371514d-f662-48c5-be52-a2d204243314",
   "metadata": {},
   "source": [
    "**Note** that the memory address of variables a and b is the same."
   ]
  },
  {
   "cell_type": "code",
   "execution_count": 21,
   "id": "11443e3c-4142-43de-82dc-145e1a7b474a",
   "metadata": {},
   "outputs": [
    {
     "data": {
      "text/plain": [
       "2"
      ]
     },
     "execution_count": 21,
     "metadata": {},
     "output_type": "execute_result"
    }
   ],
   "source": [
    "ref_count(id(a))"
   ]
  },
  {
   "cell_type": "code",
   "execution_count": 22,
   "id": "4dac989c-0193-4edd-acf3-3d386bf9e48a",
   "metadata": {},
   "outputs": [],
   "source": [
    "c = a"
   ]
  },
  {
   "cell_type": "code",
   "execution_count": 23,
   "id": "d91eb82e-68f4-4f01-bf9c-a668c1f91754",
   "metadata": {},
   "outputs": [
    {
     "data": {
      "text/plain": [
       "3"
      ]
     },
     "execution_count": 23,
     "metadata": {},
     "output_type": "execute_result"
    }
   ],
   "source": [
    "ref_count(id(a))"
   ]
  },
  {
   "cell_type": "markdown",
   "id": "071dbf58-d4fc-43b5-b7f7-1a690c821d5e",
   "metadata": {},
   "source": [
    "Now I change c to something else"
   ]
  },
  {
   "cell_type": "code",
   "execution_count": 25,
   "id": "f6efc8e5-da15-4623-bff9-d424f7e67a9a",
   "metadata": {},
   "outputs": [],
   "source": [
    "c = 10"
   ]
  },
  {
   "cell_type": "code",
   "execution_count": 26,
   "id": "dd3f7ed7-0856-4297-a90d-f918a0093bb2",
   "metadata": {},
   "outputs": [
    {
     "data": {
      "text/plain": [
       "2"
      ]
     },
     "execution_count": 26,
     "metadata": {},
     "output_type": "execute_result"
    }
   ],
   "source": [
    "ref_count(id(a))"
   ]
  },
  {
   "cell_type": "markdown",
   "id": "201d652a-bc33-4575-b3ad-1c95284f5731",
   "metadata": {},
   "source": [
    "Now I assign None to b"
   ]
  },
  {
   "cell_type": "code",
   "execution_count": 27,
   "id": "cf9fdfc1-0ab0-44d8-8b04-13a84d79c63f",
   "metadata": {},
   "outputs": [],
   "source": [
    "b = None"
   ]
  },
  {
   "cell_type": "code",
   "execution_count": 28,
   "id": "b068b906-5ef5-4369-830e-1d01e5a24a10",
   "metadata": {},
   "outputs": [
    {
     "data": {
      "text/plain": [
       "1"
      ]
     },
     "execution_count": 28,
     "metadata": {},
     "output_type": "execute_result"
    }
   ],
   "source": [
    "ref_count(id(a))"
   ]
  },
  {
   "cell_type": "markdown",
   "id": "d97b3f3e-08a0-477d-bb8a-6ad12343a34e",
   "metadata": {},
   "source": [
    "**Now,** \n",
    "* I am going to store the memory address of a in variable \"a_id\"\n",
    "* Set a = None\n",
    "* then check refcount of a_id, i.e., check the reference count of the object at particular memory address"
   ]
  },
  {
   "cell_type": "code",
   "execution_count": 29,
   "id": "b1269f28-23e9-4d93-982f-6e3561318e8f",
   "metadata": {},
   "outputs": [
    {
     "data": {
      "text/plain": [
       "1"
      ]
     },
     "execution_count": 29,
     "metadata": {},
     "output_type": "execute_result"
    }
   ],
   "source": [
    "a_id = id(a)\n",
    "a = None\n",
    "ref_count(a_id)"
   ]
  },
  {
   "cell_type": "code",
   "execution_count": 30,
   "id": "e7851472-d58e-4114-9da4-ff06c548795c",
   "metadata": {},
   "outputs": [
    {
     "data": {
      "text/plain": [
       "1"
      ]
     },
     "execution_count": 30,
     "metadata": {},
     "output_type": "execute_result"
    }
   ],
   "source": [
    "ref_count(a_id)"
   ]
  },
  {
   "cell_type": "code",
   "execution_count": 31,
   "id": "2b8d2d9b-8a46-47f3-bcfc-5187ea51c409",
   "metadata": {},
   "outputs": [
    {
     "data": {
      "text/plain": [
       "0"
      ]
     },
     "execution_count": 31,
     "metadata": {},
     "output_type": "execute_result"
    }
   ],
   "source": [
    "ref_count(a_id)"
   ]
  },
  {
   "cell_type": "markdown",
   "id": "8c47e5a8-6235-47ec-9165-2b457bca2cbf",
   "metadata": {},
   "source": [
    "* I know that the answers we got here is not what we had expected. 1st it showed 1, 2nd time it showed 1 again, then 3rd time it showed 0 ang subsequent eexecution it might show some other random number as well.\n",
    "* We will get into lot more details of why this happens later."
   ]
  },
  {
   "cell_type": "markdown",
   "id": "854888c5-39f8-41f5-bc32-dcb5571988c8",
   "metadata": {},
   "source": [
    "When the last reference to that memory address was dropped when we set a = None and memory manager frees up that memory address and essentially tosses the object away and that memory address becomes available for something else."
   ]
  },
  {
   "cell_type": "markdown",
   "id": "83c5165e-8c0d-4ba4-9686-f42e0af21d05",
   "metadata": {},
   "source": [
    "Typically in Python we don't work with memory addresses unless in very rare case where you are trying to debug something. This is just to understand what happens behind the scene."
   ]
  },
  {
   "cell_type": "markdown",
   "id": "75684a10-d6f6-48c6-af25-489cd1f4b031",
   "metadata": {},
   "source": [
    "### 3. Garbage Collection"
   ]
  },
  {
   "cell_type": "code",
   "execution_count": null,
   "id": "1c436bcc-23d0-4152-bef9-33cf2a0f38ba",
   "metadata": {},
   "outputs": [],
   "source": []
  }
 ],
 "metadata": {
  "kernelspec": {
   "display_name": "Python 3 (ipykernel)",
   "language": "python",
   "name": "python3"
  },
  "language_info": {
   "codemirror_mode": {
    "name": "ipython",
    "version": 3
   },
   "file_extension": ".py",
   "mimetype": "text/x-python",
   "name": "python",
   "nbconvert_exporter": "python",
   "pygments_lexer": "ipython3",
   "version": "3.10.12"
  }
 },
 "nbformat": 4,
 "nbformat_minor": 5
}
