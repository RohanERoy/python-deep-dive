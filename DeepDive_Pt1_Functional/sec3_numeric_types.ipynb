{
 "cells": [
  {
   "cell_type": "markdown",
   "id": "3ba60088-eca3-4a49-83c2-c3a9b403dae4",
   "metadata": {},
   "source": [
    "$$\\begin{align} \\text{Integer Numbers (}\\mathbb{Z}\\text{)} & \\quad \\quad 0, \\pm1, \\pm2, \\pm3, ... \\\\ \n",
    "\\text{Rational Numbers (}\\mathbb{Q}\\text{)} & \\quad \\quad \\left\\{ \\frac{p}{q} \\ \\middle| \\  p, q \\ \\epsilon \\ \\mathbb{Z}, q \\neq 0 \\right\\}\\\\\n",
    "\\text{Real Numbers (} \\mathbb{R}\\text{)} & \\quad \\quad \\text{Set of real numbers that cannot be expressed in the form of a fraction}\\\\\n",
    "\\text{Irrational Numbers (} \\mathbb{R} \\ \\textbackslash \\ \\mathbb{Q}\\text{)} & \\quad \\quad \\text{A number that cannot be expressed as fraction and if written as a decimal neither terminates nor repeats}\\\\\n",
    "\\text{Complex Numbers (}\\mathbb{C}\\text{)} & \\quad \\quad \\{ a + bi \\ | \\ a, b \\ \\epsilon \\ \\mathbb{R} \\} \\end{align}$$"
   ]
  },
  {
   "cell_type": "markdown",
   "id": "9a6776ec-bee3-4271-ae4b-ace73fbec85c",
   "metadata": {},
   "source": [
    "$$ \\mathbb{Z} \\subset \\mathbb{Q} \\subset \\mathbb{R} \\subset \\mathbb{C} $$"
   ]
  },
  {
   "cell_type": "markdown",
   "id": "7104eb0d-c25f-46e5-b52f-7eb21de6c482",
   "metadata": {},
   "source": [
    "## Python Types to represent various sets of numbers"
   ]
  },
  {
   "cell_type": "markdown",
   "id": "6863aaec-5f5f-4413-bb7d-96dd3d1f01fc",
   "metadata": {},
   "source": [
    "<table>\n",
    "    <tr style=\"text-align: left;\">\n",
    "        <th>Sets of Numbers</th>\n",
    "        <th></th>\n",
    "        <th>Python Type</th>\n",
    "    </tr>\n",
    "    <tr>\n",
    "        <td>Integer Numbers $ \\ \\text{(} \\mathbb{Z} \\text{)}$</td>\n",
    "        <th>&emsp;</th>\n",
    "        <td>int</td>\n",
    "    </tr>\n",
    "    <tr>\n",
    "        <td>Fractions/Rational Numbers $ \\ \\text{(} \\mathbb{Q} \\text{)}$</td>\n",
    "        <th>&emsp;</th>\n",
    "        <td>fractions.Fraction</td>\n",
    "    </tr>\n",
    "    <tr>\n",
    "        <td>Real Numbers $ \\ \\text{(} \\mathbb{R} \\text{)}$</td>\n",
    "        <th>&emsp;</th>\n",
    "        <td>float <br> decimal.Decimal</td>\n",
    "    </tr>\n",
    "    <tr>\n",
    "        <td>Complex Numbers $ \\ \\text{(} \\mathbb{C} \\text{)}$</td>\n",
    "        <th>&emsp;</th>\n",
    "        <td>complex</td>\n",
    "    </tr>\n",
    "</table>"
   ]
  },
  {
   "cell_type": "code",
   "execution_count": null,
   "id": "9f81008d-3d5b-4ce6-9a21-275fc4ef7e7d",
   "metadata": {},
   "outputs": [],
   "source": []
  }
 ],
 "metadata": {
  "kernelspec": {
   "display_name": "Python 3 (ipykernel)",
   "language": "python",
   "name": "python3"
  },
  "language_info": {
   "codemirror_mode": {
    "name": "ipython",
    "version": 3
   },
   "file_extension": ".py",
   "mimetype": "text/x-python",
   "name": "python",
   "nbconvert_exporter": "python",
   "pygments_lexer": "ipython3",
   "version": "3.10.12"
  }
 },
 "nbformat": 4,
 "nbformat_minor": 5
}
